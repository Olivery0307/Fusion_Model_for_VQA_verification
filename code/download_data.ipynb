{
 "cells": [
  {
   "cell_type": "code",
   "execution_count": 1,
   "id": "0dcaf266-fb04-4743-b9e8-2e38baf769bd",
   "metadata": {},
   "outputs": [],
   "source": [
    "import os\n",
    "import json\n",
    "import requests\n",
    "from zipfile import ZipFile"
   ]
  },
  {
   "cell_type": "code",
   "execution_count": 6,
   "id": "39527f47-479c-4e1f-9471-5676978826cd",
   "metadata": {},
   "outputs": [],
   "source": [
    "# Define paths\n",
    "data_dir = 'vqa_data'\n",
    "os.makedirs(data_dir, exist_ok=True)\n",
    "\n",
    "# URLs for the VQA v2 dataset\n",
    "vqa_images_url = 'http://images.cocodataset.org/zips/train2014.zip'\n",
    "validation_images_url = 'http://images.cocodataset.org/zips/val2014.zip'\n",
    "vqa_questions_url = 'https://s3.amazonaws.com/cvmlp/vqa/2.0/questions/VQA_v2_Train_questions.zip'\n",
    "vqa_annotations_url = 'https://s3.amazonaws.com/cvmlp/vqa/2.0/annotations/v2_mscoco_train2014_annotations.json'\n",
    "\n",
    "# Function to download and unzip files with error handling\n",
    "def download_and_unzip(url, extract_to):\n",
    "    try:\n",
    "        local_filename = url.split('/')[-1]\n",
    "        local_filepath = os.path.join(data_dir, local_filename)\n",
    "        \n",
    "        # Download only if file doesn't already exist\n",
    "        if not os.path.exists(local_filepath):\n",
    "            print(f'Downloading {local_filename}...')\n",
    "            with requests.get(url, stream=True) as r:\n",
    "                r.raise_for_status()\n",
    "                with open(local_filepath, 'wb') as f:\n",
    "                    for chunk in r.iter_content(chunk_size=8192):\n",
    "                        f.write(chunk)\n",
    "            print(f'{local_filename} downloaded successfully.')\n",
    "        else:\n",
    "            print(f'{local_filename} already exists.')\n",
    "\n",
    "        # Extract if it's a zip file\n",
    "        if local_filename.endswith('.zip'):\n",
    "            print(f'Extracting {local_filename}...')\n",
    "            with ZipFile(local_filepath, 'r') as zip_ref:\n",
    "                zip_ref.extractall(extract_to)\n",
    "            print(f'{local_filename} extracted successfully.')\n",
    "    except requests.exceptions.RequestException as e:\n",
    "        print(f\"Error downloading {local_filename}: {e}\")\n",
    "    except OSError as e:\n",
    "        print(f\"File handling error for {local_filename}: {e}\")"
   ]
  },
  {
   "cell_type": "code",
   "execution_count": 3,
   "id": "ecaea587-7b5c-4803-b30d-0188ac210630",
   "metadata": {},
   "outputs": [
    {
     "name": "stdout",
     "output_type": "stream",
     "text": [
      "Downloading train2014.zip...\n",
      "train2014.zip downloaded successfully.\n",
      "Extracting train2014.zip...\n",
      "train2014.zip extracted successfully.\n"
     ]
    }
   ],
   "source": [
    "# Download training image\n",
    "download_and_unzip(vqa_images_url, os.path.join(data_dir, 'images'))"
   ]
  },
  {
   "cell_type": "code",
   "execution_count": 7,
   "id": "f049dae8-e65c-4b01-af96-1be29e2281a5",
   "metadata": {},
   "outputs": [
    {
     "name": "stdout",
     "output_type": "stream",
     "text": [
      "Downloading val2014.zip...\n",
      "val2014.zip downloaded successfully.\n",
      "Extracting val2014.zip...\n",
      "val2014.zip extracted successfully.\n"
     ]
    }
   ],
   "source": [
    "download_and_unzip(validation_images_url, os.path.join(data_dir, 'images'))"
   ]
  },
  {
   "cell_type": "code",
   "execution_count": 4,
   "id": "f2145c8a-8560-4b6c-ae79-f095ac338d9f",
   "metadata": {
    "tags": []
   },
   "outputs": [
    {
     "name": "stdout",
     "output_type": "stream",
     "text": [
      "Downloading v2_Annotations_Train_mscoco.zip...\n",
      "v2_Annotations_Train_mscoco.zip downloaded successfully.\n",
      "Extracting v2_Annotations_Train_mscoco.zip...\n",
      "v2_Annotations_Train_mscoco.zip extracted successfully.\n",
      "Downloading v2_Annotations_Val_mscoco.zip...\n",
      "v2_Annotations_Val_mscoco.zip downloaded successfully.\n",
      "Extracting v2_Annotations_Val_mscoco.zip...\n",
      "v2_Annotations_Val_mscoco.zip extracted successfully.\n",
      "Downloading v2_Questions_Train_mscoco.zip...\n",
      "v2_Questions_Train_mscoco.zip downloaded successfully.\n",
      "Extracting v2_Questions_Train_mscoco.zip...\n",
      "v2_Questions_Train_mscoco.zip extracted successfully.\n",
      "Downloading v2_Questions_Val_mscoco.zip...\n",
      "v2_Questions_Val_mscoco.zip downloaded successfully.\n",
      "Extracting v2_Questions_Val_mscoco.zip...\n",
      "v2_Questions_Val_mscoco.zip extracted successfully.\n",
      "Downloading v2_Questions_Test_mscoco.zip...\n",
      "v2_Questions_Test_mscoco.zip downloaded successfully.\n",
      "Extracting v2_Questions_Test_mscoco.zip...\n",
      "v2_Questions_Test_mscoco.zip extracted successfully.\n"
     ]
    }
   ],
   "source": [
    "import os\n",
    "import requests\n",
    "from zipfile import ZipFile\n",
    "\n",
    "# Define paths\n",
    "data_dir = 'vqa_data'\n",
    "text_dir = os.path.join(data_dir, 'Text')\n",
    "os.makedirs(text_dir, exist_ok=True)\n",
    "\n",
    "# New URLs for the VQA dataset\n",
    "urls = [\n",
    "    'https://s3.amazonaws.com/cvmlp/vqa/mscoco/vqa/v2_Annotations_Train_mscoco.zip',\n",
    "    'https://s3.amazonaws.com/cvmlp/vqa/mscoco/vqa/v2_Annotations_Val_mscoco.zip',\n",
    "    'https://s3.amazonaws.com/cvmlp/vqa/mscoco/vqa/v2_Questions_Train_mscoco.zip',\n",
    "    'https://s3.amazonaws.com/cvmlp/vqa/mscoco/vqa/v2_Questions_Val_mscoco.zip',\n",
    "    'https://s3.amazonaws.com/cvmlp/vqa/mscoco/vqa/v2_Questions_Test_mscoco.zip'\n",
    "]\n",
    "\n",
    "# Function to download and unzip files with error handling\n",
    "def download_and_unzip(url, extract_to):\n",
    "    try:\n",
    "        local_filename = url.split('/')[-1]\n",
    "        local_filepath = os.path.join(data_dir, local_filename)\n",
    "        \n",
    "        # Download only if file doesn't already exist\n",
    "        if not os.path.exists(local_filepath):\n",
    "            print(f'Downloading {local_filename}...')\n",
    "            with requests.get(url, stream=True) as r:\n",
    "                r.raise_for_status()\n",
    "                with open(local_filepath, 'wb') as f:\n",
    "                    for chunk in r.iter_content(chunk_size=8192):\n",
    "                        f.write(chunk)\n",
    "            print(f'{local_filename} downloaded successfully.')\n",
    "        else:\n",
    "            print(f'{local_filename} already exists.')\n",
    "\n",
    "        # Extract if it's a zip file\n",
    "        if local_filename.endswith('.zip'):\n",
    "            print(f'Extracting {local_filename}...')\n",
    "            with ZipFile(local_filepath, 'r') as zip_ref:\n",
    "                zip_ref.extractall(extract_to)\n",
    "            print(f'{local_filename} extracted successfully.')\n",
    "    except requests.exceptions.RequestException as e:\n",
    "        print(f\"Error downloading {local_filename}: {e}\")\n",
    "    except OSError as e:\n",
    "        print(f\"File handling error for {local_filename}: {e}\")\n",
    "\n",
    "# Download and unzip each file\n",
    "for url in urls:\n",
    "    download_and_unzip(url, text_dir)"
   ]
  },
  {
   "cell_type": "code",
   "execution_count": null,
   "id": "17aa4a24-4f3d-4cca-9549-22fabfacbea3",
   "metadata": {},
   "outputs": [],
   "source": []
  }
 ],
 "metadata": {
  "kernelspec": {
   "display_name": "Python 3 (ipykernel)",
   "language": "python",
   "name": "python3"
  },
  "language_info": {
   "codemirror_mode": {
    "name": "ipython",
    "version": 3
   },
   "file_extension": ".py",
   "mimetype": "text/x-python",
   "name": "python",
   "nbconvert_exporter": "python",
   "pygments_lexer": "ipython3",
   "version": "3.11.9"
  }
 },
 "nbformat": 4,
 "nbformat_minor": 5
}
