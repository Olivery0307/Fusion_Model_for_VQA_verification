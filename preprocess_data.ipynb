{
 "cells": [
  {
   "cell_type": "code",
   "execution_count": 10,
   "id": "d0b9b21e-9b7b-4bdc-a884-2732070c12fd",
   "metadata": {
    "tags": []
   },
   "outputs": [
    {
     "name": "stdout",
     "output_type": "stream",
     "text": [
      "Processing v2_mscoco_train2014_annotations.json...\n",
      "Saved preprocessed data to vqa_data/Preprocessed/preprocessed_v2_mscoco_train2014_annotations.json\n",
      "Processing v2_OpenEnded_mscoco_test-dev2015_questions.json...\n",
      "Saved preprocessed data to vqa_data/Preprocessed/preprocessed_v2_OpenEnded_mscoco_test-dev2015_questions.json\n",
      "Processing v2_OpenEnded_mscoco_test2015_questions.json...\n",
      "Saved preprocessed data to vqa_data/Preprocessed/preprocessed_v2_OpenEnded_mscoco_test2015_questions.json\n",
      "Processing v2_mscoco_val2014_annotations.json...\n",
      "Saved preprocessed data to vqa_data/Preprocessed/preprocessed_v2_mscoco_val2014_annotations.json\n",
      "Processing v2_OpenEnded_mscoco_val2014_questions.json...\n",
      "Saved preprocessed data to vqa_data/Preprocessed/preprocessed_v2_OpenEnded_mscoco_val2014_questions.json\n",
      "Processing v2_OpenEnded_mscoco_train2014_questions.json...\n",
      "Saved preprocessed data to vqa_data/Preprocessed/preprocessed_v2_OpenEnded_mscoco_train2014_questions.json\n"
     ]
    }
   ],
   "source": [
    "import os\n",
    "import json\n",
    "\n",
    "# Define paths\n",
    "data_dir = 'vqa_data'\n",
    "text_dir = os.path.join(data_dir, 'Text')\n",
    "preprocessed_dir = os.path.join(data_dir, 'Preprocessed')\n",
    "os.makedirs(preprocessed_dir, exist_ok=True)\n",
    "\n",
    "def preprocess_vqa_data(input_dir, output_dir):\n",
    "    \"\"\"\n",
    "    Preprocess VQA data by loading JSON files, extracting relevant information,\n",
    "    and saving processed data.\n",
    "    \"\"\"\n",
    "    try:\n",
    "        for file_name in os.listdir(input_dir):\n",
    "            if file_name.endswith('.json'):\n",
    "                file_path = os.path.join(input_dir, file_name)\n",
    "                print(f\"Processing {file_name}...\")\n",
    "                \n",
    "                # Load JSON data\n",
    "                with open(file_path, 'r') as file:\n",
    "                    data = json.load(file)\n",
    "                \n",
    "                # Preprocess data (example: extracting questions and annotations)\n",
    "                if 'questions' in data:  # VQA questions\n",
    "                    preprocessed_data = {\n",
    "                        'questions': [\n",
    "                            {\n",
    "                                'question_id': item['question_id'],\n",
    "                                'image_id': item['image_id'],\n",
    "                                'question': item['question']\n",
    "                            }\n",
    "                            for item in data['questions']\n",
    "                        ]\n",
    "                    }\n",
    "                elif 'annotations' in data:  # VQA annotations\n",
    "                    preprocessed_data = {\n",
    "                        'annotations': [\n",
    "                            {\n",
    "                                'question_id': item['question_id'],\n",
    "                                'image_id': item['image_id'],\n",
    "                                'answers': item['answers']\n",
    "                            }\n",
    "                            for item in data['annotations']\n",
    "                        ]\n",
    "                    }\n",
    "                else:\n",
    "                    print(f\"Unknown structure in {file_name}, skipping...\")\n",
    "                    continue\n",
    "                \n",
    "                # Save preprocessed data\n",
    "                output_file_path = os.path.join(output_dir, f\"preprocessed_{file_name}\")\n",
    "                with open(output_file_path, 'w') as output_file:\n",
    "                    json.dump(preprocessed_data, output_file, indent=2)\n",
    "                print(f\"Saved preprocessed data to {output_file_path}\")\n",
    "            else:\n",
    "                print(f\"Skipping non-JSON file: {file_name}\")\n",
    "    except Exception as e:\n",
    "        print(f\"Error during preprocessing: {e}\")\n",
    "\n",
    "# Preprocess the data\n",
    "preprocess_vqa_data(text_dir, preprocessed_dir)\n"
   ]
  },
  {
   "cell_type": "code",
   "execution_count": null,
   "id": "30247a0f-fdcb-4f06-8094-834ef906664d",
   "metadata": {},
   "outputs": [],
   "source": []
  }
 ],
 "metadata": {
  "kernelspec": {
   "display_name": "Python 3 (ipykernel)",
   "language": "python",
   "name": "python3"
  },
  "language_info": {
   "codemirror_mode": {
    "name": "ipython",
    "version": 3
   },
   "file_extension": ".py",
   "mimetype": "text/x-python",
   "name": "python",
   "nbconvert_exporter": "python",
   "pygments_lexer": "ipython3",
   "version": "3.11.9"
  }
 },
 "nbformat": 4,
 "nbformat_minor": 5
}
